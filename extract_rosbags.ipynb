{
 "cells": [
  {
   "cell_type": "code",
   "execution_count": 1,
   "id": "9de2f152-2a49-48c4-890d-01d67acaaf65",
   "metadata": {
    "tags": []
   },
   "outputs": [
    {
     "name": "stderr",
     "output_type": "stream",
     "text": [
      "Failed to load Python extension for LZ4 support. LZ4 compression will not be available.\n"
     ]
    }
   ],
   "source": [
    "import os\n",
    "import rosbag\n",
    "\n",
    "from sensor_msgs.msg import Image\n",
    "import cv2\n",
    "import numpy as np"
   ]
  },
  {
   "cell_type": "code",
   "execution_count": 2,
   "id": "dbdd7a95-864d-47f0-a7eb-f24ae966ec1f",
   "metadata": {
    "tags": []
   },
   "outputs": [],
   "source": [
    "def extract_rgb_depth_data(bag_file):\n",
    "    bag = rosbag.Bag(bag_file, 'r')\n",
    "\n",
    "    rgb_data = []\n",
    "    depth_data = []\n",
    "\n",
    "    for topic, msg, t in bag.read_messages(topics=['/device_0/sensor_0/Color_0/image/data', '/device_0/sensor_0/Depth_0/image/data']):\n",
    "        if \"Color_0\" in topic:\n",
    "            rgb_data.append((t, msg))\n",
    "        elif \"Depth_0\" in topic:\n",
    "            depth_data.append((t, msg))\n",
    "\n",
    "    bag.close()\n",
    "\n",
    "    return rgb_data, depth_data"
   ]
  },
  {
   "cell_type": "code",
   "execution_count": 3,
   "id": "4d4e4589-a9bf-48ae-9f73-5006ef2cce78",
   "metadata": {
    "tags": []
   },
   "outputs": [],
   "source": [
    "def save_images(rgb_data, depth_data, path, max_files=3):\n",
    "    \n",
    "    count = 0\n",
    "    for t, rgb_msg in rgb_data:\n",
    "        if count == max_files:\n",
    "            break\n",
    "        rgb_image = np.frombuffer(rgb_msg.data, dtype=np.uint8).reshape((rgb_msg.height, rgb_msg.width, 3))\n",
    "        print(rgb_image.shape)\n",
    "        rgb_image = rgb_image[:,:640,:]\n",
    "        print(rgb_image.shape)\n",
    "        cv2.imwrite(os.path.join(path, f'images/rgb_{t}.png'), cv2.cvtColor(rgb_image, cv2.COLOR_RGB2BGR))\n",
    "        count += 1\n",
    "        \n",
    "    count = 0\n",
    "    for t, depth_msg in depth_data:\n",
    "        if count == max_files:\n",
    "            break\n",
    "        depth_image = np.frombuffer(depth_msg.data, dtype=np.uint16).reshape((depth_msg.height, depth_msg.width))\n",
    "        cv2.imwrite(os.path.join(path, f'depth/depth_{t}.png'), depth_image)\n",
    "        count += 1\n"
   ]
  },
  {
   "cell_type": "code",
   "execution_count": 4,
   "id": "1429a671-7b57-48ea-ba2f-4c2c85e0fd0d",
   "metadata": {
    "tags": []
   },
   "outputs": [],
   "source": [
    "def get_rosbag_topics(bag_file):\n",
    "    bag = rosbag.Bag(bag_file, 'r')\n",
    "    \n",
    "    topics = bag.get_type_and_topic_info().topics.keys()\n",
    "\n",
    "    bag.close()\n",
    "\n",
    "    return topics"
   ]
  },
  {
   "cell_type": "code",
   "execution_count": 11,
   "id": "256510e3-64b5-4804-9a91-cd2421c948ed",
   "metadata": {
    "tags": []
   },
   "outputs": [],
   "source": [
    "root = \"./data\"\n",
    "specific_bag = \"aruco_container3.bag\"\n",
    "bag_path = os.path.join(root, specific_bag)\n",
    "\n",
    "bag = rosbag.Bag(bag_path, 'r')"
   ]
  },
  {
   "cell_type": "code",
   "execution_count": 12,
   "id": "b6e75626-fe69-4220-baa9-00e429c97fee",
   "metadata": {
    "tags": []
   },
   "outputs": [
    {
     "name": "stdout",
     "output_type": "stream",
     "text": [
      "/device_0/sensor_0/Color_0/info/camera_info\n",
      "header: \n",
      "  seq: 0\n",
      "  stamp: \n",
      "    secs: 0\n",
      "    nsecs:         0\n",
      "  frame_id: ''\n",
      "height: 480\n",
      "width: 848\n",
      "distortion_model: \"Inverse Brown Conrady\"\n",
      "D: [-0.053771115839481354, 0.05535884201526642, 0.0008205653284676373, 0.0009527259971946478, -0.018054140731692314]\n",
      "K: [433.34295654296875, 0.0, 418.0463562011719, 0.0, 432.9460754394531, 244.36111450195312, 0.0, 0.0, 1.0]\n",
      "R: [0.0, 0.0, 0.0, 0.0, 0.0, 0.0, 0.0, 0.0, 0.0]\n",
      "P: [0.0, 0.0, 0.0, 0.0, 0.0, 0.0, 0.0, 0.0, 0.0, 0.0, 0.0, 0.0]\n",
      "binning_x: 0\n",
      "binning_y: 0\n",
      "roi: \n",
      "  x_offset: 0\n",
      "  y_offset: 0\n",
      "  height: 0\n",
      "  width: 0\n",
      "  do_rectify: False\n",
      "1\n"
     ]
    }
   ],
   "source": [
    "topics_list = ['/device_0/sensor_0/Color_0/info/camera_info']\n",
    "for topic, msg, t in bag.read_messages(topics=topics_list):\n",
    "    print(topic)\n",
    "    print(msg)\n",
    "    print(t)"
   ]
  },
  {
   "cell_type": "code",
   "execution_count": null,
   "id": "24f6e584-ac82-44ef-99a0-8ff66d9189c8",
   "metadata": {},
   "outputs": [],
   "source": []
  },
  {
   "cell_type": "code",
   "execution_count": 13,
   "id": "5313b722-1967-495b-9f33-ac602c15563e",
   "metadata": {
    "tags": []
   },
   "outputs": [
    {
     "name": "stdout",
     "output_type": "stream",
     "text": [
      "(480, 848, 3)\n",
      "(480, 640, 3)\n",
      "(480, 848, 3)\n",
      "(480, 640, 3)\n",
      "(480, 848, 3)\n",
      "(480, 640, 3)\n"
     ]
    }
   ],
   "source": [
    "rgb_data, depth_data = extract_rgb_depth_data(bag_path)\n",
    "save_images(rgb_data, depth_data, './data')"
   ]
  },
  {
   "cell_type": "code",
   "execution_count": null,
   "id": "5ccb1ddb-9e9f-460a-9950-094a225462dc",
   "metadata": {},
   "outputs": [],
   "source": []
  },
  {
   "cell_type": "code",
   "execution_count": null,
   "id": "115871a1-c171-498f-bca5-7b2cc9afd274",
   "metadata": {},
   "outputs": [],
   "source": []
  },
  {
   "cell_type": "code",
   "execution_count": null,
   "id": "cc36b1f5-4234-4fa3-9226-00e2be4c051f",
   "metadata": {},
   "outputs": [],
   "source": []
  },
  {
   "cell_type": "code",
   "execution_count": null,
   "id": "82091281-1c2a-4a33-8a49-2553eecc0e18",
   "metadata": {},
   "outputs": [],
   "source": []
  },
  {
   "cell_type": "code",
   "execution_count": null,
   "id": "247f4dec-54eb-434a-b8a9-d9ba0052fd0d",
   "metadata": {},
   "outputs": [],
   "source": []
  }
 ],
 "metadata": {
  "kernelspec": {
   "display_name": "Python 3",
   "language": "python",
   "name": "python3"
  },
  "language_info": {
   "codemirror_mode": {
    "name": "ipython",
    "version": 3
   },
   "file_extension": ".py",
   "mimetype": "text/x-python",
   "name": "python",
   "nbconvert_exporter": "python",
   "pygments_lexer": "ipython3",
   "version": "3.9.13"
  }
 },
 "nbformat": 4,
 "nbformat_minor": 5
}
